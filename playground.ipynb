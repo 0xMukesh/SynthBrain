{
 "cells": [
  {
   "cell_type": "code",
   "execution_count": 4,
   "id": "a1f01b06",
   "metadata": {},
   "outputs": [],
   "source": [
    "from src.dataset import BRISCDataset\n",
    "\n",
    "dataset = BRISCDataset(\n",
    "    root=\"/home/mukesh/.cache/kagglehub/datasets/briscdataset/brisc2025/versions/5/brisc2025/classification_task\",\n",
    "    split=\"train\",\n",
    ")"
   ]
  },
  {
   "cell_type": "code",
   "execution_count": 12,
   "id": "4a6c568f",
   "metadata": {},
   "outputs": [
    {
     "data": {
      "text/plain": [
       "{'glioma': 0, 'meningioma': 1, 'no_tumor': 2, 'pituitary': 3}"
      ]
     },
     "execution_count": 12,
     "metadata": {},
     "output_type": "execute_result"
    }
   ],
   "source": [
    "BRICS_CLASSES = [\"glioma\", \"meningioma\", \"no_tumor\", \"pituitary\"]\n",
    "BRICS_SHORT_CODE_MAPPING = {v[:2]: v for v in BRICS_CLASSES}\n",
    "BRICS_CLASS_IDX_MAPPING = {c: i for i, c in enumerate(BRICS_CLASSES)}\n",
    "\n",
    "BRICS_CLASS_IDX_MAPPING"
   ]
  }
 ],
 "metadata": {
  "kernelspec": {
   "display_name": ".venv",
   "language": "python",
   "name": "python3"
  },
  "language_info": {
   "codemirror_mode": {
    "name": "ipython",
    "version": 3
   },
   "file_extension": ".py",
   "mimetype": "text/x-python",
   "name": "python",
   "nbconvert_exporter": "python",
   "pygments_lexer": "ipython3",
   "version": "3.13.7"
  }
 },
 "nbformat": 4,
 "nbformat_minor": 5
}
